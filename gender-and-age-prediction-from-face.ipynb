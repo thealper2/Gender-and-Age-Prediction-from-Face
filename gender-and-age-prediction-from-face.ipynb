{
 "cells": [
  {
   "cell_type": "code",
   "execution_count": null,
   "metadata": {
    "_cell_guid": "b1076dfc-b9ad-4769-8c92-a6c4dae69d19",
    "_kg_hide-output": true,
    "_uuid": "8f2839f25d086af736a60e9eeb907d3b93b6e0e5"
   },
   "outputs": [],
   "source": [
    "# This Python 3 environment comes with many helpful analytics libraries installed\n",
    "# It is defined by the kaggle/python Docker image: https://github.com/kaggle/docker-python\n",
    "# For example, here's several helpful packages to load\n",
    "\n",
    "import numpy as np # linear algebra\n",
    "import pandas as pd # data processing, CSV file I/O (e.g. pd.read_csv)\n",
    "\n",
    "# Input data files are available in the read-only \"../input/\" directory\n",
    "# For example, running this (by clicking run or pressing Shift+Enter) will list all files under the input directory\n",
    "\n",
    "import os\n",
    "for dirname, _, filenames in os.walk('/kaggle/input'):\n",
    "    for filename in filenames:\n",
    "        print(os.path.join(dirname, filename))\n",
    "\n",
    "# You can write up to 20GB to the current directory (/kaggle/working/) that gets preserved as output when you create a version using \"Save & Run All\" \n",
    "# You can also write temporary files to /kaggle/temp/, but they won't be saved outside of the current session"
   ]
  },
  {
   "cell_type": "markdown",
   "metadata": {},
   "source": [
    "# Import Libraries"
   ]
  },
  {
   "cell_type": "code",
   "execution_count": null,
   "metadata": {},
   "outputs": [],
   "source": [
    "import numpy as np\n",
    "import pandas as pd\n",
    "\n",
    "import os\n",
    "from tqdm import tqdm\n",
    "\n",
    "import matplotlib.pyplot as plt\n",
    "import seaborn as sns\n",
    "sns.set_style(\"whitegrid\")\n",
    "import PIL\n",
    "from PIL import Image\n",
    "\n",
    "import tensorflow as tf\n",
    "from tensorflow.keras.models import Model\n",
    "from tensorflow.keras.layers import Input, Conv2D, MaxPooling2D, Flatten, Dropout, Dense\n",
    "from tensorflow.keras.preprocessing.image import load_img\n",
    "from tensorflow.keras.utils import plot_model\n",
    "\n",
    "import warnings\n",
    "warnings.filterwarnings(\"ignore\")"
   ]
  },
  {
   "cell_type": "markdown",
   "metadata": {},
   "source": [
    "# Load Data"
   ]
  },
  {
   "cell_type": "code",
   "execution_count": null,
   "metadata": {},
   "outputs": [],
   "source": [
    "root_dir = \"/kaggle/input/utkface-new/UTKFace/\""
   ]
  },
  {
   "cell_type": "code",
   "execution_count": null,
   "metadata": {},
   "outputs": [],
   "source": [
    "path_arr = []\n",
    "age_arr = []\n",
    "gender_arr = []\n",
    "\n",
    "for file in tqdm(os.listdir(root_dir)):\n",
    "    labels = file.split(\"_\")\n",
    "    \n",
    "    filepath = os.path.join(root_dir, file)\n",
    "    age = int(labels[0])\n",
    "    gender = int(labels[1])\n",
    "    \n",
    "    path_arr.append(filepath)\n",
    "    age_arr.append(age)\n",
    "    gender_arr.append(gender)"
   ]
  },
  {
   "cell_type": "code",
   "execution_count": null,
   "metadata": {},
   "outputs": [],
   "source": [
    "df = pd.DataFrame({\n",
    "    \"image_path\": path_arr,\n",
    "    \"age\": age_arr,\n",
    "    \"gender\": gender_arr\n",
    "})"
   ]
  },
  {
   "cell_type": "code",
   "execution_count": null,
   "metadata": {},
   "outputs": [],
   "source": [
    "df.head()"
   ]
  },
  {
   "cell_type": "code",
   "execution_count": null,
   "metadata": {},
   "outputs": [],
   "source": [
    "df_train, df_valid, df_test = np.split(df.sample(frac=1), [int(.6*len(df)), int(.8*len(df))])\n",
    "\n",
    "df_train = df_train.reset_index(drop=True)\n",
    "df_valid = df_valid.reset_index(drop=True)\n",
    "df_test = df_test.reset_index(drop=True)\n",
    "\n",
    "print(\"Total Size:\", df.shape[0])\n",
    "print(\"Train Size:\", df_train.shape[0])\n",
    "print(\"valid Size:\", df_valid.shape[0])\n",
    "print(\"Test Size:\", df_test.shape[0])"
   ]
  },
  {
   "cell_type": "markdown",
   "metadata": {},
   "source": [
    "# Visualization"
   ]
  },
  {
   "cell_type": "markdown",
   "metadata": {},
   "source": [
    "### Train"
   ]
  },
  {
   "cell_type": "code",
   "execution_count": null,
   "metadata": {},
   "outputs": [],
   "source": [
    "plt.figure(figsize=(10, 8))\n",
    "ax = sns.countplot(x=\"gender\", order=df_train[\"gender\"].value_counts().index, data=df_train)\n",
    "ax.set_title(\"Train - Gender\")\n",
    "for container in ax.containers:\n",
    "    ax.bar_label(container)"
   ]
  },
  {
   "cell_type": "code",
   "execution_count": null,
   "metadata": {},
   "outputs": [],
   "source": [
    "plt.figure(figsize=(10, 8))\n",
    "ax = sns.distplot(x=df_train[\"age\"])\n",
    "ax.set_title(\"Train - Gender\")\n",
    "plt.show()"
   ]
  },
  {
   "cell_type": "markdown",
   "metadata": {},
   "source": [
    "### Valid"
   ]
  },
  {
   "cell_type": "code",
   "execution_count": null,
   "metadata": {},
   "outputs": [],
   "source": [
    "plt.figure(figsize=(10, 8))\n",
    "ax = sns.countplot(x=\"gender\", order=df_valid[\"gender\"].value_counts().index, data=df_valid)\n",
    "ax.set_title(\"Valid - Gender\")\n",
    "for container in ax.containers:\n",
    "    ax.bar_label(container)"
   ]
  },
  {
   "cell_type": "code",
   "execution_count": null,
   "metadata": {},
   "outputs": [],
   "source": [
    "plt.figure(figsize=(10, 8))\n",
    "ax = sns.distplot(x=df_valid[\"age\"])\n",
    "ax.set_title(\"Valid - Gender\")\n",
    "plt.show()"
   ]
  },
  {
   "cell_type": "markdown",
   "metadata": {},
   "source": [
    "### Test"
   ]
  },
  {
   "cell_type": "code",
   "execution_count": null,
   "metadata": {},
   "outputs": [],
   "source": [
    "plt.figure(figsize=(10, 8))\n",
    "ax = sns.countplot(x=\"gender\", order=df_test[\"gender\"].value_counts().index, data=df_test)\n",
    "ax.set_title(\"Test - Gender\")\n",
    "for container in ax.containers:\n",
    "    ax.bar_label(container)"
   ]
  },
  {
   "cell_type": "code",
   "execution_count": null,
   "metadata": {},
   "outputs": [],
   "source": [
    "plt.figure(figsize=(10, 8))\n",
    "ax = sns.distplot(x=df_test[\"age\"])\n",
    "ax.set_title(\"Test - Gender\")\n",
    "plt.show()"
   ]
  },
  {
   "cell_type": "code",
   "execution_count": null,
   "metadata": {},
   "outputs": [],
   "source": [
    "def visualize_df(df: np.ndarray):\n",
    "    fig, axes = plt.subplots(4, 4, figsize=(12, 12))\n",
    "\n",
    "    for i, ax in enumerate(axes.ravel()):\n",
    "        if i < len(df):\n",
    "            a = np.random.randint(1, len(df), 1)[0]\n",
    "            img_path = df.loc[a][['image_path']].values[0]\n",
    "            img_age = df.loc[a][['age']].values[0]\n",
    "            img_gender = df.loc[a][['gender']].values[0]\n",
    "            \n",
    "            image = Image.open(img_path).convert('RGB')\n",
    "            \n",
    "            ax.imshow(image)\n",
    "            ax.set_title(f\"Age: {img_age}\\nGender: {img_gender}\")\n",
    "            ax.axis('off')\n",
    "            \n",
    "        else:\n",
    "            ax.axis('off')\n",
    "            \n",
    "    plt.tight_layout()\n",
    "    plt.show()"
   ]
  },
  {
   "cell_type": "code",
   "execution_count": null,
   "metadata": {},
   "outputs": [],
   "source": [
    "visualize_df(df_train)"
   ]
  },
  {
   "cell_type": "code",
   "execution_count": null,
   "metadata": {},
   "outputs": [],
   "source": [
    "train_img_arr = []\n",
    "train_gender_arr = []\n",
    "train_age_arr = []\n",
    "\n",
    "for idx, row in tqdm(df_train.iterrows()):\n",
    "    img = load_img(row['image_path'], color_mode=\"grayscale\")\n",
    "    img = img.resize((128, 128), Image.LANCZOS)\n",
    "    img = np.array(img, dtype=float)\n",
    "    img /= 255.0\n",
    "    train_img_arr.append(img)\n",
    "    train_gender_arr.append(row['gender'])\n",
    "    train_age_arr.append(row['age'])\n",
    "    \n",
    "train_img_arr = np.array(train_img_arr).reshape(len(train_img_arr), 128, 128, 1)\n",
    "train_gender_arr = np.array(train_gender_arr)\n",
    "train_age_arr = np.array(train_age_arr)"
   ]
  },
  {
   "cell_type": "code",
   "execution_count": null,
   "metadata": {},
   "outputs": [],
   "source": [
    "valid_img_arr = []\n",
    "valid_gender_arr = []\n",
    "valid_age_arr = []\n",
    "\n",
    "for idx, row in tqdm(df_valid.iterrows()):\n",
    "    img = load_img(row['image_path'], color_mode=\"grayscale\")\n",
    "    img = img.resize((128, 128), Image.LANCZOS)\n",
    "    img = np.array(img, dtype=float)\n",
    "    img /= 255.0\n",
    "    valid_img_arr.append(img)\n",
    "    valid_gender_arr.append(row['gender'])\n",
    "    valid_age_arr.append(row['age'])\n",
    "    \n",
    "valid_img_arr = np.array(valid_img_arr).reshape(len(valid_img_arr), 128, 128, 1)\n",
    "valid_gender_arr = np.array(valid_gender_arr)\n",
    "valid_age_arr = np.array(valid_age_arr)"
   ]
  },
  {
   "cell_type": "code",
   "execution_count": null,
   "metadata": {},
   "outputs": [],
   "source": [
    "test_img_arr = []\n",
    "test_gender_arr = []\n",
    "test_age_arr = []\n",
    "\n",
    "for idx, row in tqdm(df_test.iterrows()):\n",
    "    img = load_img(row['image_path'], color_mode=\"grayscale\")\n",
    "    img = img.resize((128, 128), Image.LANCZOS)\n",
    "    img = np.array(img, dtype=float)\n",
    "    img /= 255.0\n",
    "    test_img_arr.append(img)\n",
    "    test_gender_arr.append(row['gender'])\n",
    "    test_age_arr.append(row['age'])\n",
    "    \n",
    "test_img_arr = np.array(test_img_arr).reshape(len(test_img_arr), 128, 128, 1)\n",
    "test_gender_arr = np.array(test_gender_arr)\n",
    "test_age_arr = np.array(test_age_arr)"
   ]
  },
  {
   "cell_type": "markdown",
   "metadata": {},
   "source": [
    "# Model"
   ]
  },
  {
   "cell_type": "code",
   "execution_count": null,
   "metadata": {},
   "outputs": [],
   "source": [
    "inputs = Input(shape=(128, 128, 1))\n",
    "\n",
    "conv1 = Conv2D(32, kernel_size=(3, 3), activation='relu')(inputs)\n",
    "max1 = MaxPooling2D(pool_size=(2, 2))(conv1)\n",
    "\n",
    "conv2 = Conv2D(64, kernel_size=(3, 3), activation='relu')(max1)\n",
    "max2 = MaxPooling2D(pool_size=(2, 2))(conv2)\n",
    "\n",
    "conv3 = Conv2D(128, kernel_size=(3, 3), activation='relu')(max2)\n",
    "max3 = MaxPooling2D(pool_size=(2, 2))(conv3)\n",
    "\n",
    "flat = Flatten()(max3)\n",
    "\n",
    "dense1 = Dense(256, activation='relu')(flat)\n",
    "drop1 = Dropout(0.3)(dense1)\n",
    "output_gender = Dense(1, activation='sigmoid')(drop1)\n",
    "\n",
    "dense2 = Dense(256, activation='relu')(flat)\n",
    "drop2 = Dropout(0.3)(dense2)\n",
    "output_age = Dense(1, activation='relu')(drop2)\n",
    "\n",
    "model = Model(inputs=[inputs], outputs=[output_gender, output_age])\n",
    "\n",
    "model.compile(loss=['binary_crossentropy', 'mae'],\n",
    "              optimizer='adam',\n",
    "              metrics=['accuracy', 'mae'])"
   ]
  },
  {
   "cell_type": "code",
   "execution_count": null,
   "metadata": {},
   "outputs": [],
   "source": [
    "model.summary()"
   ]
  },
  {
   "cell_type": "code",
   "execution_count": null,
   "metadata": {},
   "outputs": [],
   "source": [
    "plot_model(model)"
   ]
  },
  {
   "cell_type": "code",
   "execution_count": null,
   "metadata": {},
   "outputs": [],
   "source": [
    "history = model.fit(x=train_img_arr, y=[train_gender_arr, train_age_arr], batch_size=64, epochs=25, validation_data=(valid_img_arr, [valid_gender_arr, valid_age_arr]))"
   ]
  },
  {
   "cell_type": "markdown",
   "metadata": {},
   "source": [
    "# Plot the Results"
   ]
  },
  {
   "cell_type": "code",
   "execution_count": null,
   "metadata": {},
   "outputs": [],
   "source": [
    "history_df = pd.DataFrame(history.history)\n",
    "history_df.head()"
   ]
  },
  {
   "cell_type": "code",
   "execution_count": null,
   "metadata": {},
   "outputs": [],
   "source": [
    "plt.figure(figsize=(10, 8))\n",
    "\n",
    "plt.title(\"Gender Accuracy\")\n",
    "\n",
    "plt.plot(history_df[\"dense_1_accuracy\"])\n",
    "plt.plot(history_df[\"val_dense_1_accuracy\"])\n",
    "\n",
    "plt.legend([\"train\", \"valid\"])\n",
    "\n",
    "plt.show()"
   ]
  },
  {
   "cell_type": "code",
   "execution_count": null,
   "metadata": {},
   "outputs": [],
   "source": [
    "plt.figure(figsize=(10, 8))\n",
    "\n",
    "plt.title(\"Age MAE\")\n",
    "\n",
    "plt.plot(history_df[\"dense_3_mae\"])\n",
    "plt.plot(history_df[\"val_dense_3_mae\"])\n",
    "\n",
    "plt.legend([\"train\", \"valid\"])\n",
    "\n",
    "plt.show()"
   ]
  },
  {
   "cell_type": "markdown",
   "metadata": {},
   "source": [
    "# Test"
   ]
  },
  {
   "cell_type": "code",
   "execution_count": null,
   "metadata": {},
   "outputs": [],
   "source": [
    "preds = model.predict(test_img_arr, verbose=0)\n",
    "pred_gender = np.argmax(preds[0], axis=1)\n",
    "pred_age = [round(pred[0]) for pred in preds[1]]"
   ]
  },
  {
   "cell_type": "code",
   "execution_count": null,
   "metadata": {},
   "outputs": [],
   "source": [
    "df_test[\"pred_age\"] = pred_age\n",
    "df_test[\"pred_gender\"] = pred_gender"
   ]
  },
  {
   "cell_type": "code",
   "execution_count": null,
   "metadata": {},
   "outputs": [],
   "source": [
    "df_test.head()"
   ]
  },
  {
   "cell_type": "code",
   "execution_count": null,
   "metadata": {},
   "outputs": [],
   "source": [
    "def visualize_results(df: pd.DataFrame):\n",
    "    fig, axes = plt.subplots(4, 4, figsize=(12, 12))\n",
    "\n",
    "    for i, ax in enumerate(axes.ravel()):\n",
    "        if i < len(df):\n",
    "            a = np.random.randint(1, len(df), 1)[0]\n",
    "            gender_dict = {0: 'Male', 1: 'Female'}\n",
    "            img_path = df.loc[a][['image_path']].values[0]\n",
    "            img_age = df.loc[a][['age']].values[0]\n",
    "            img_gender = df.loc[a][['gender']].values[0]\n",
    "            img_pred_age = df.loc[a][['pred_age']].values[0]\n",
    "            img_pred_gender = df.loc[a][['pred_gender']].values[0]\n",
    "            \n",
    "            image = Image.open(img_path).convert('RGB')\n",
    "            \n",
    "            ax.imshow(image)\n",
    "            ax.set_title(f\"Pred Age: {img_pred_age}(True:{img_age})\\nPred Gender: {gender_dict[img_pred_gender]}(True:{gender_dict[img_gender]})\")\n",
    "            ax.axis('off')\n",
    "            \n",
    "        else:\n",
    "            ax.axis('off')\n",
    "            \n",
    "    plt.tight_layout()\n",
    "    plt.show()"
   ]
  },
  {
   "cell_type": "code",
   "execution_count": null,
   "metadata": {},
   "outputs": [],
   "source": [
    "visualize_results(df_test)"
   ]
  },
  {
   "cell_type": "code",
   "execution_count": null,
   "metadata": {},
   "outputs": [],
   "source": []
  }
 ],
 "metadata": {
  "kernelspec": {
   "display_name": "Python 3 (ipykernel)",
   "language": "python",
   "name": "python3"
  },
  "language_info": {
   "codemirror_mode": {
    "name": "ipython",
    "version": 3
   },
   "file_extension": ".py",
   "mimetype": "text/x-python",
   "name": "python",
   "nbconvert_exporter": "python",
   "pygments_lexer": "ipython3",
   "version": "3.10.12"
  }
 },
 "nbformat": 4,
 "nbformat_minor": 4
}
